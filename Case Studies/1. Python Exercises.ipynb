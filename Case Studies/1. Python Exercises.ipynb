{
 "cells": [
  {
   "cell_type": "markdown",
   "id": "a096c4c3-9433-4464-a4bd-e2e0a5ca5f87",
   "metadata": {},
   "source": [
    "<h2> 1. Python Exercises </h2>"
   ]
  },
  {
   "cell_type": "markdown",
   "id": "b71d4d64-8689-4960-b6d1-eb2ba8e7fded",
   "metadata": {},
   "source": " <h3> Application: Complete Python tasks. </h3>"
  },
  {
   "cell_type": "markdown",
   "id": "ede6d7e0-3f17-4264-8bd1-12594b5d1c24",
   "metadata": {},
   "source": "<h4><b>Task 1:</b> Examine the data structures of the given values. </h4>"
  },
  {
   "cell_type": "code",
   "id": "f04d8e75-efb8-437c-9377-218c9044696b",
   "metadata": {
    "ExecuteTime": {
     "end_time": "2024-08-12T10:10:00.805874Z",
     "start_time": "2024-08-12T10:10:00.800941Z"
    }
   },
   "source": [
    "x = 8\n",
    "\n",
    "y = 3.2\n",
    "\n",
    "z = 8j + 18\n",
    "\n",
    "a = \"Hello World\"\n",
    "\n",
    "b = True\n",
    "\n",
    "c = 23 < 22\n",
    "\n",
    "l = [1, 2, 3, 4,\"String\",3.2, False]\n",
    "\n",
    "d = {\"Name\": \"Jake\",\n",
    "     \"Age\": [27,56],\n",
    "     \"Adress\": \"Downtown\"}\n",
    "\n",
    "t = (\"Machine Learning\", \"Data Science\")\n",
    "\n",
    "s = {\"Python\", \"Machine Learning\", \"Data Science\", \"Python\"}\n"
   ],
   "outputs": [],
   "execution_count": 11
  },
  {
   "cell_type": "markdown",
   "id": "851a2276-633d-4056-9ac5-4aa699535b43",
   "metadata": {},
   "source": "Use the Type() method."
  },
  {
   "cell_type": "markdown",
   "id": "0660e905-5c7e-4e9a-b1a2-b92deb95e798",
   "metadata": {},
   "source": [
    "<h4><b> Solution 1 </b></h4>"
   ]
  },
  {
   "cell_type": "code",
   "id": "7b3b6947-4370-4816-83e8-7768571ef289",
   "metadata": {
    "ExecuteTime": {
     "end_time": "2024-08-12T10:10:07.035902Z",
     "start_time": "2024-08-12T10:10:07.030779Z"
    }
   },
   "source": [
    "type(x)"
   ],
   "outputs": [
    {
     "data": {
      "text/plain": [
       "int"
      ]
     },
     "execution_count": 12,
     "metadata": {},
     "output_type": "execute_result"
    }
   ],
   "execution_count": 12
  },
  {
   "cell_type": "code",
   "id": "e8b66ab8-4cf3-477a-a027-aa3e52799603",
   "metadata": {
    "ExecuteTime": {
     "end_time": "2024-08-12T10:10:07.326612Z",
     "start_time": "2024-08-12T10:10:07.322588Z"
    }
   },
   "source": [
    "type(y)"
   ],
   "outputs": [
    {
     "data": {
      "text/plain": [
       "float"
      ]
     },
     "execution_count": 13,
     "metadata": {},
     "output_type": "execute_result"
    }
   ],
   "execution_count": 13
  },
  {
   "cell_type": "code",
   "id": "e1fc2298-91a7-4062-8259-b4daaf57ba7f",
   "metadata": {
    "ExecuteTime": {
     "end_time": "2024-08-12T10:10:07.589151Z",
     "start_time": "2024-08-12T10:10:07.585062Z"
    }
   },
   "source": [
    "type(z)"
   ],
   "outputs": [
    {
     "data": {
      "text/plain": [
       "complex"
      ]
     },
     "execution_count": 14,
     "metadata": {},
     "output_type": "execute_result"
    }
   ],
   "execution_count": 14
  },
  {
   "cell_type": "code",
   "id": "2d0f8b0d-875a-4002-ae12-c5eb687267fa",
   "metadata": {
    "ExecuteTime": {
     "end_time": "2024-08-12T10:10:07.909651Z",
     "start_time": "2024-08-12T10:10:07.905627Z"
    }
   },
   "source": [
    "type(a)"
   ],
   "outputs": [
    {
     "data": {
      "text/plain": [
       "str"
      ]
     },
     "execution_count": 15,
     "metadata": {},
     "output_type": "execute_result"
    }
   ],
   "execution_count": 15
  },
  {
   "cell_type": "code",
   "id": "6c2da0ad-a32d-4890-a839-df2e40b886fd",
   "metadata": {
    "ExecuteTime": {
     "end_time": "2024-08-12T10:10:08.159611Z",
     "start_time": "2024-08-12T10:10:08.155539Z"
    }
   },
   "source": [
    "type(b)"
   ],
   "outputs": [
    {
     "data": {
      "text/plain": [
       "bool"
      ]
     },
     "execution_count": 16,
     "metadata": {},
     "output_type": "execute_result"
    }
   ],
   "execution_count": 16
  },
  {
   "cell_type": "code",
   "id": "9aca872d-ac3e-4d9c-82a5-939b9b081260",
   "metadata": {
    "ExecuteTime": {
     "end_time": "2024-08-12T10:10:08.364958Z",
     "start_time": "2024-08-12T10:10:08.360848Z"
    }
   },
   "source": [
    "type(c)"
   ],
   "outputs": [
    {
     "data": {
      "text/plain": [
       "bool"
      ]
     },
     "execution_count": 17,
     "metadata": {},
     "output_type": "execute_result"
    }
   ],
   "execution_count": 17
  },
  {
   "cell_type": "code",
   "id": "32de0777-b6cf-4f4d-9921-e01b5f0f1c81",
   "metadata": {
    "ExecuteTime": {
     "end_time": "2024-08-12T10:10:08.888949Z",
     "start_time": "2024-08-12T10:10:08.884997Z"
    }
   },
   "source": [
    "type(l)"
   ],
   "outputs": [
    {
     "data": {
      "text/plain": [
       "list"
      ]
     },
     "execution_count": 18,
     "metadata": {},
     "output_type": "execute_result"
    }
   ],
   "execution_count": 18
  },
  {
   "cell_type": "code",
   "id": "47d0de85-a475-4716-9010-1541e473e25d",
   "metadata": {
    "ExecuteTime": {
     "end_time": "2024-08-12T10:10:09.082661Z",
     "start_time": "2024-08-12T10:10:09.079158Z"
    }
   },
   "source": [
    "type(d)"
   ],
   "outputs": [
    {
     "data": {
      "text/plain": [
       "dict"
      ]
     },
     "execution_count": 19,
     "metadata": {},
     "output_type": "execute_result"
    }
   ],
   "execution_count": 19
  },
  {
   "cell_type": "code",
   "id": "dabb22ad-b744-41a4-93a1-86dcc3002bac",
   "metadata": {
    "ExecuteTime": {
     "end_time": "2024-08-12T10:10:09.319890Z",
     "start_time": "2024-08-12T10:10:09.316253Z"
    }
   },
   "source": [
    "type(t)"
   ],
   "outputs": [
    {
     "data": {
      "text/plain": [
       "tuple"
      ]
     },
     "execution_count": 20,
     "metadata": {},
     "output_type": "execute_result"
    }
   ],
   "execution_count": 20
  },
  {
   "cell_type": "code",
   "id": "5751637c-3f94-4a29-b3b7-19c4480ad3af",
   "metadata": {
    "ExecuteTime": {
     "end_time": "2024-08-12T10:10:10.337779Z",
     "start_time": "2024-08-12T10:10:10.333745Z"
    }
   },
   "source": [
    "type(s)"
   ],
   "outputs": [
    {
     "data": {
      "text/plain": [
       "set"
      ]
     },
     "execution_count": 21,
     "metadata": {},
     "output_type": "execute_result"
    }
   ],
   "execution_count": 21
  },
  {
   "cell_type": "markdown",
   "id": "ca61ce64-67be-4d5c-be12-af6cbc9d26d9",
   "metadata": {},
   "source": " <h4><b> ⚡️BONUS </b></h4>"
  },
  {
   "cell_type": "code",
   "id": "e2f3b1fb-039f-41cd-838e-55efb7cf58cd",
   "metadata": {
    "scrolled": true,
    "ExecuteTime": {
     "end_time": "2024-08-12T10:10:11.617466Z",
     "start_time": "2024-08-12T10:10:11.613332Z"
    }
   },
   "source": [
    "def examine(*args):\n",
    "    for input in args:\n",
    "        print(type(input))\n",
    "examine(x, y, z, a, b, c, l, d, t, s)"
   ],
   "outputs": [
    {
     "name": "stdout",
     "output_type": "stream",
     "text": [
      "<class 'int'>\n",
      "<class 'float'>\n",
      "<class 'complex'>\n",
      "<class 'str'>\n",
      "<class 'bool'>\n",
      "<class 'bool'>\n",
      "<class 'list'>\n",
      "<class 'dict'>\n",
      "<class 'tuple'>\n",
      "<class 'set'>\n"
     ]
    }
   ],
   "execution_count": 22
  },
  {
   "cell_type": "markdown",
   "id": "7c6c6b21-100b-412a-a355-bf2c20f50959",
   "metadata": {},
   "source": ""
  },
  {
   "cell_type": "markdown",
   "id": "0201682d-3c02-4804-bf81-4927ccabeb62",
   "metadata": {},
   "source": [
    "<h4><b> Task 2:</b> Convert all letters of the given string expression to uppercase. Put a space instead of comma and period, separate them word by word. </h4>"
   ]
  },
  {
   "cell_type": "code",
   "id": "24eee8f6-a37e-4163-aa31-af2d794baee0",
   "metadata": {
    "ExecuteTime": {
     "end_time": "2024-08-12T10:10:15.036547Z",
     "start_time": "2024-08-12T10:10:15.032636Z"
    }
   },
   "source": [
    "text = \"The goal is to turn data into information, and information into insight.\""
   ],
   "outputs": [],
   "execution_count": 23
  },
  {
   "metadata": {},
   "cell_type": "markdown",
   "source": [
    "<h6> <b> Expected Output: </b> </h6> \n",
    "\n",
    "['THE', 'GOAL', 'IS', 'TO', 'TURN', 'DATA', 'INTO', 'INFORMATION', 'AND', 'INFORMATION', 'INTO', 'INSIGHT']"
   ],
   "id": "2bd76e6450af6b12"
  },
  {
   "cell_type": "markdown",
   "id": "3a15ed81-4a21-4a71-b541-f75b6f6cd316",
   "metadata": {},
   "source": "Use string methods."
  },
  {
   "cell_type": "markdown",
   "id": "fbfe13fb-05e2-4de0-b04b-9283e0bbb8cb",
   "metadata": {},
   "source": [
    "<h4><b> Solution 2 </b></h4>"
   ]
  },
  {
   "cell_type": "code",
   "id": "9d6991e6-7b45-4537-a81f-273c022d6dae",
   "metadata": {
    "ExecuteTime": {
     "end_time": "2024-08-12T10:10:19.866652Z",
     "start_time": "2024-08-12T10:10:19.861193Z"
    }
   },
   "source": [
    "text.upper().replace(\",\",\" \").replace(\".\",\" \").split()"
   ],
   "outputs": [
    {
     "data": {
      "text/plain": [
       "['THE',\n",
       " 'GOAL',\n",
       " 'IS',\n",
       " 'TO',\n",
       " 'TURN',\n",
       " 'DATA',\n",
       " 'INTO',\n",
       " 'INFORMATION',\n",
       " 'AND',\n",
       " 'INFORMATION',\n",
       " 'INTO',\n",
       " 'INSIGHT']"
      ]
     },
     "execution_count": 24,
     "metadata": {},
     "output_type": "execute_result"
    }
   ],
   "execution_count": 24
  },
  {
   "cell_type": "markdown",
   "id": "d9b9fb13-3f1d-4cff-81fc-92305a4c705b",
   "metadata": {},
   "source": " <h4><b> ⚡️ BONUS </b></h4>"
  },
  {
   "cell_type": "code",
   "id": "5fa8d3f3-0ccb-462c-bff1-18a64f4c05b0",
   "metadata": {
    "ExecuteTime": {
     "end_time": "2024-08-12T10:10:22.359096Z",
     "start_time": "2024-08-12T10:10:22.354195Z"
    }
   },
   "source": [
    "def convert(string):\n",
    "    string = string.upper().replace(\".\", \" \").replace(\",\", \" \").split()\n",
    "    return string\n",
    "\n",
    "print(convert(text))"
   ],
   "outputs": [
    {
     "name": "stdout",
     "output_type": "stream",
     "text": [
      "['THE', 'GOAL', 'IS', 'TO', 'TURN', 'DATA', 'INTO', 'INFORMATION', 'AND', 'INFORMATION', 'INTO', 'INSIGHT']\n"
     ]
    }
   ],
   "execution_count": 25
  },
  {
   "cell_type": "markdown",
   "id": "0eb29815-8585-478f-aa5d-25b56c62d7ce",
   "metadata": {},
   "source": [
    "  "
   ]
  },
  {
   "cell_type": "markdown",
   "id": "5f461681-f875-4b0f-a3c9-38a42f2befa2",
   "metadata": {},
   "source": [
    "<h4><b> Task3:</b> Follow the steps below to the given list. </h4>"
   ]
  },
  {
   "cell_type": "code",
   "id": "8f8dbfbf-89b7-482b-aba1-bb6c781c811c",
   "metadata": {
    "ExecuteTime": {
     "end_time": "2024-08-12T10:10:48.556130Z",
     "start_time": "2024-08-12T10:10:48.548604Z"
    }
   },
   "source": [
    "lst = [\"D\",\"A\",\"T\",\"A\",\"S\",\"C\",\"I\",\"E\",\"N\",\"C\",\"E\"]"
   ],
   "outputs": [],
   "execution_count": 1
  },
  {
   "cell_type": "markdown",
   "id": "53860ecf-0cba-4aad-856f-71525f654e46",
   "metadata": {},
   "source": [
    "- <b>Step 3.1:</b> Look at the number of elements of the given list.\n",
    "- <b>Step 3.2:</b> Call the elements at the zeroth and tenth index.\n",
    "- <b>Step 3.3:</b> Create a list [\"D\", \"A\", \"T\", \"A\"] from the given list.\n",
    "- <b>Step 3.4:</b> Delete the element at the eighth index.\n",
    "- <b>Step 3.5:</b> Add a new element.\n",
    "- <b>Step 3.6:</b> Add the \"N\" element again to the eighth index."
   ]
  },
  {
   "cell_type": "markdown",
   "id": "1769dbef-f8f7-4dc0-becd-ca0b89b6b788",
   "metadata": {},
   "source": [
    "<h4><b> Solution 3 </b></h4>"
   ]
  },
  {
   "cell_type": "markdown",
   "id": "b78faf55-94c1-45e9-8ecc-87fda9954589",
   "metadata": {},
   "source": "<h5> Solution 3.1 </h5>"
  },
  {
   "cell_type": "code",
   "id": "85e946db-3a84-44e8-8ef5-a61cb7e26818",
   "metadata": {
    "ExecuteTime": {
     "end_time": "2024-08-12T10:10:27.436322Z",
     "start_time": "2024-08-12T10:10:27.432031Z"
    }
   },
   "source": [
    "len(lst)"
   ],
   "outputs": [
    {
     "data": {
      "text/plain": [
       "11"
      ]
     },
     "execution_count": 27,
     "metadata": {},
     "output_type": "execute_result"
    }
   ],
   "execution_count": 27
  },
  {
   "cell_type": "markdown",
   "id": "9cd5047f-9462-4ba2-bee0-3a55cfdae961",
   "metadata": {},
   "source": [
    "<h5><b> Solution 3.2 </b></h5>"
   ]
  },
  {
   "cell_type": "code",
   "id": "5afbb533-b5d7-4460-b108-67a63034f332",
   "metadata": {
    "ExecuteTime": {
     "end_time": "2024-08-12T10:10:28.004453Z",
     "start_time": "2024-08-12T10:10:28.000166Z"
    }
   },
   "source": [
    "lst[0]"
   ],
   "outputs": [
    {
     "data": {
      "text/plain": [
       "'D'"
      ]
     },
     "execution_count": 28,
     "metadata": {},
     "output_type": "execute_result"
    }
   ],
   "execution_count": 28
  },
  {
   "cell_type": "code",
   "id": "c284974b-a58a-4c94-afce-4b6ee128e884",
   "metadata": {
    "ExecuteTime": {
     "end_time": "2024-08-12T10:10:28.382157Z",
     "start_time": "2024-08-12T10:10:28.377386Z"
    }
   },
   "source": [
    "lst[10]"
   ],
   "outputs": [
    {
     "data": {
      "text/plain": [
       "'E'"
      ]
     },
     "execution_count": 29,
     "metadata": {},
     "output_type": "execute_result"
    }
   ],
   "execution_count": 29
  },
  {
   "cell_type": "markdown",
   "id": "b5b8edd1-dd88-405a-b756-886dfb949566",
   "metadata": {},
   "source": [
    "<h5><b> Solution 3.3 </b></h5>"
   ]
  },
  {
   "cell_type": "code",
   "id": "eb1843ff-88a0-42c9-9947-2c6dd204b8ba",
   "metadata": {
    "ExecuteTime": {
     "end_time": "2024-08-12T10:10:29.659207Z",
     "start_time": "2024-08-12T10:10:29.654805Z"
    }
   },
   "source": [
    "lst[0:4]"
   ],
   "outputs": [
    {
     "data": {
      "text/plain": [
       "['D', 'A', 'T', 'A']"
      ]
     },
     "execution_count": 30,
     "metadata": {},
     "output_type": "execute_result"
    }
   ],
   "execution_count": 30
  },
  {
   "cell_type": "markdown",
   "id": "02966148-b02e-4805-b753-6d7c5fc0780c",
   "metadata": {},
   "source": [
    "<h5><b> Solution 3.4 </b></h5>"
   ]
  },
  {
   "cell_type": "code",
   "id": "a8bdbb72-84a7-47be-ae58-8c2e8e8723b5",
   "metadata": {
    "ExecuteTime": {
     "end_time": "2024-08-12T10:10:30.963583Z",
     "start_time": "2024-08-12T10:10:30.959278Z"
    }
   },
   "source": [
    "lst.pop(8)"
   ],
   "outputs": [
    {
     "data": {
      "text/plain": [
       "'N'"
      ]
     },
     "execution_count": 31,
     "metadata": {},
     "output_type": "execute_result"
    }
   ],
   "execution_count": 31
  },
  {
   "cell_type": "code",
   "id": "d9335f78-289c-4fb4-92e5-5a585777114d",
   "metadata": {
    "ExecuteTime": {
     "end_time": "2024-08-12T10:10:31.636790Z",
     "start_time": "2024-08-12T10:10:31.632773Z"
    }
   },
   "source": [
    "lst"
   ],
   "outputs": [
    {
     "data": {
      "text/plain": [
       "['D', 'A', 'T', 'A', 'S', 'C', 'I', 'E', 'C', 'E']"
      ]
     },
     "execution_count": 32,
     "metadata": {},
     "output_type": "execute_result"
    }
   ],
   "execution_count": 32
  },
  {
   "cell_type": "markdown",
   "id": "8e9e8374-5fc1-4d28-a422-caf23fb319e9",
   "metadata": {},
   "source": [
    "<h5><b> Solution 3.5 </b></h5>"
   ]
  },
  {
   "cell_type": "code",
   "id": "f60664d3-6664-4798-97ce-5538658580e5",
   "metadata": {
    "ExecuteTime": {
     "end_time": "2024-08-12T10:10:33.028244Z",
     "start_time": "2024-08-12T10:10:33.025341Z"
    }
   },
   "source": [
    "lst.append(\"Mine\")"
   ],
   "outputs": [],
   "execution_count": 33
  },
  {
   "cell_type": "code",
   "id": "b208a91b-c315-4901-aec0-e8f6b6d0ed9f",
   "metadata": {
    "ExecuteTime": {
     "end_time": "2024-08-12T10:10:33.929442Z",
     "start_time": "2024-08-12T10:10:33.923341Z"
    }
   },
   "source": [
    "lst"
   ],
   "outputs": [
    {
     "data": {
      "text/plain": [
       "['D', 'A', 'T', 'A', 'S', 'C', 'I', 'E', 'C', 'E', 'Mine']"
      ]
     },
     "execution_count": 34,
     "metadata": {},
     "output_type": "execute_result"
    }
   ],
   "execution_count": 34
  },
  {
   "cell_type": "markdown",
   "id": "8b186cb3-158e-4118-9695-81053b107272",
   "metadata": {},
   "source": [
    "<h5><b> Solution 3.6 </b></h5>"
   ]
  },
  {
   "cell_type": "code",
   "id": "e8698556-999f-463e-b8ff-bbf3ac52f617",
   "metadata": {
    "ExecuteTime": {
     "end_time": "2024-08-12T10:10:35.523076Z",
     "start_time": "2024-08-12T10:10:35.520074Z"
    }
   },
   "source": [
    "lst.insert(8, \"N\")"
   ],
   "outputs": [],
   "execution_count": 35
  },
  {
   "cell_type": "code",
   "id": "becd7225-75f9-479d-a6b7-986f2d67d381",
   "metadata": {
    "ExecuteTime": {
     "end_time": "2024-08-12T10:10:36.974519Z",
     "start_time": "2024-08-12T10:10:36.970754Z"
    }
   },
   "source": [
    "lst"
   ],
   "outputs": [
    {
     "data": {
      "text/plain": [
       "['D', 'A', 'T', 'A', 'S', 'C', 'I', 'E', 'N', 'C', 'E', 'Mine']"
      ]
     },
     "execution_count": 36,
     "metadata": {},
     "output_type": "execute_result"
    }
   ],
   "execution_count": 36
  },
  {
   "cell_type": "markdown",
   "id": "debd8900-f1c7-4bd0-b91d-6c0ba7a261d8",
   "metadata": {},
   "source": " <h4><b> ⚡️ BONUS </b></h4>"
  },
  {
   "cell_type": "code",
   "id": "db77e083-2316-45cb-9143-bbdc8f4d4b20",
   "metadata": {
    "ExecuteTime": {
     "end_time": "2024-08-12T10:11:01.614603Z",
     "start_time": "2024-08-12T10:11:01.610123Z"
    }
   },
   "source": [
    "def listExercises(lst):\n",
    "    print(len(lst))\n",
    "    print(lst[0], lst[10])\n",
    "    print(lst[:4])\n",
    "    lst.pop(8)\n",
    "    print(lst)\n",
    "    lst.append(\"Mine\")\n",
    "    print(lst)\n",
    "    lst.insert(8, \"N\")\n",
    "    print(lst)\n",
    "\n",
    "\n",
    "listExercises(lst)  "
   ],
   "outputs": [
    {
     "name": "stdout",
     "output_type": "stream",
     "text": [
      "11\n",
      "D E\n",
      "['D', 'A', 'T', 'A']\n",
      "['D', 'A', 'T', 'A', 'S', 'C', 'I', 'E', 'C', 'E']\n",
      "['D', 'A', 'T', 'A', 'S', 'C', 'I', 'E', 'C', 'E', 'Mine']\n",
      "['D', 'A', 'T', 'A', 'S', 'C', 'I', 'E', 'N', 'C', 'E', 'Mine']\n"
     ]
    }
   ],
   "execution_count": 2
  },
  {
   "metadata": {},
   "cell_type": "markdown",
   "source": "",
   "id": "4f2c86ca3cd3fff8"
  },
  {
   "metadata": {},
   "cell_type": "markdown",
   "source": "<h4><b> Task4:</b> Apply the following steps to the given dictionary structure. </h4>\n",
   "id": "81811d732a439e2d"
  },
  {
   "cell_type": "code",
   "id": "7d6dff03-dd7b-41fa-982c-e679765dfc74",
   "metadata": {
    "ExecuteTime": {
     "end_time": "2024-08-12T10:11:24.361349Z",
     "start_time": "2024-08-12T10:11:24.354603Z"
    }
   },
   "source": [
    "dict = {'Christian': [\"America\",18],\n",
    "        'Daisy':[\"England\",12],\n",
    "        'Antonio':[\"Spain\",22],\n",
    "        'Dante':[\"Italy\",25]}"
   ],
   "outputs": [],
   "execution_count": 1
  },
  {
   "metadata": {},
   "cell_type": "markdown",
   "source": [
    "- <b>Step 4.1:</b> Access key values.\n",
    "- <b>Step 4.2:</b> Access the values.\n",
    "- <b>Step 4.3:</b> Update the value of Daisy key 12 to 13.\n",
    "- <b>Step 4.4:</b> Add a new value with the key value Ahmet value [Turkey,24]\n",
    "- <b>Step 4.5:</b> Delete Antonio from the dictionary.\n"
   ],
   "id": "ffd74f0d15458a64"
  },
  {
   "metadata": {},
   "cell_type": "markdown",
   "source": "<h4><b> Solution 4 </b></h4>",
   "id": "547bd0e17a599595"
  },
  {
   "metadata": {},
   "cell_type": "markdown",
   "source": "<h5> Solution 4.1 </h5>\n",
   "id": "16f8f68fb0d583b5"
  },
  {
   "metadata": {
    "ExecuteTime": {
     "end_time": "2024-08-12T10:11:10.439936Z",
     "start_time": "2024-08-12T10:11:10.433272Z"
    }
   },
   "cell_type": "code",
   "source": "dict.keys()",
   "id": "7ad81a351eb2ea50",
   "outputs": [
    {
     "data": {
      "text/plain": [
       "dict_keys(['Christian', 'Daisy', 'Antonio', 'Dante'])"
      ]
     },
     "execution_count": 4,
     "metadata": {},
     "output_type": "execute_result"
    }
   ],
   "execution_count": 4
  },
  {
   "metadata": {},
   "cell_type": "markdown",
   "source": "<h5> Solution 4.2 </h5>\n",
   "id": "b42a3f8a17d1952c"
  },
  {
   "metadata": {
    "ExecuteTime": {
     "end_time": "2024-08-12T10:11:11.074354Z",
     "start_time": "2024-08-12T10:11:11.069918Z"
    }
   },
   "cell_type": "code",
   "source": "dict.values()",
   "id": "40bd09332514966f",
   "outputs": [
    {
     "data": {
      "text/plain": [
       "dict_values([['America', 18], ['England', 12], ['Spain', 22], ['Italy', 25]])"
      ]
     },
     "execution_count": 5,
     "metadata": {},
     "output_type": "execute_result"
    }
   ],
   "execution_count": 5
  },
  {
   "metadata": {},
   "cell_type": "markdown",
   "source": "<h5> Solution 4.3 </h5>",
   "id": "ee8cc75c2e699382"
  },
  {
   "metadata": {
    "ExecuteTime": {
     "end_time": "2024-08-12T10:11:12.164205Z",
     "start_time": "2024-08-12T10:11:12.160851Z"
    }
   },
   "cell_type": "code",
   "source": "dict.update({\"Daisy\": [\"England\",13]})",
   "id": "a5f25b1490d41d4a",
   "outputs": [],
   "execution_count": 6
  },
  {
   "metadata": {
    "ExecuteTime": {
     "end_time": "2024-08-12T10:11:12.935370Z",
     "start_time": "2024-08-12T10:11:12.931402Z"
    }
   },
   "cell_type": "code",
   "source": "dict",
   "id": "40aeb5eb92110318",
   "outputs": [
    {
     "data": {
      "text/plain": [
       "{'Christian': ['America', 18],\n",
       " 'Daisy': ['England', 13],\n",
       " 'Antonio': ['Spain', 22],\n",
       " 'Dante': ['Italy', 25]}"
      ]
     },
     "execution_count": 7,
     "metadata": {},
     "output_type": "execute_result"
    }
   ],
   "execution_count": 7
  },
  {
   "metadata": {},
   "cell_type": "markdown",
   "source": "<h5> Solution 4.4 </h5>",
   "id": "c19d52c4c8be4240"
  },
  {
   "metadata": {
    "ExecuteTime": {
     "end_time": "2024-08-12T10:11:14.202297Z",
     "start_time": "2024-08-12T10:11:14.198615Z"
    }
   },
   "cell_type": "code",
   "source": "dict.update({\"Ahmet\": [\"Turkey\", 24]})",
   "id": "261eae255f13e9c0",
   "outputs": [],
   "execution_count": 8
  },
  {
   "metadata": {
    "ExecuteTime": {
     "end_time": "2024-08-12T10:11:14.983498Z",
     "start_time": "2024-08-12T10:11:14.978997Z"
    }
   },
   "cell_type": "code",
   "source": "dict",
   "id": "a04045617a899ad7",
   "outputs": [
    {
     "data": {
      "text/plain": [
       "{'Christian': ['America', 18],\n",
       " 'Daisy': ['England', 13],\n",
       " 'Antonio': ['Spain', 22],\n",
       " 'Dante': ['Italy', 25],\n",
       " 'Ahmet': ['Turkey', 24]}"
      ]
     },
     "execution_count": 9,
     "metadata": {},
     "output_type": "execute_result"
    }
   ],
   "execution_count": 9
  },
  {
   "metadata": {},
   "cell_type": "markdown",
   "source": "<h5> Solution 4.5 </h5>",
   "id": "22b12cda21216dd3"
  },
  {
   "metadata": {
    "ExecuteTime": {
     "end_time": "2024-08-12T10:11:16.002708Z",
     "start_time": "2024-08-12T10:11:15.997773Z"
    }
   },
   "cell_type": "code",
   "source": "dict.pop(\"Antonio\")",
   "id": "ab41d5864c87b8ef",
   "outputs": [
    {
     "data": {
      "text/plain": [
       "['Spain', 22]"
      ]
     },
     "execution_count": 10,
     "metadata": {},
     "output_type": "execute_result"
    }
   ],
   "execution_count": 10
  },
  {
   "metadata": {
    "ExecuteTime": {
     "end_time": "2024-08-12T10:11:16.934857Z",
     "start_time": "2024-08-12T10:11:16.931051Z"
    }
   },
   "cell_type": "code",
   "source": "dict",
   "id": "98f42aed08109b22",
   "outputs": [
    {
     "data": {
      "text/plain": [
       "{'Christian': ['America', 18],\n",
       " 'Daisy': ['England', 13],\n",
       " 'Dante': ['Italy', 25],\n",
       " 'Ahmet': ['Turkey', 24]}"
      ]
     },
     "execution_count": 11,
     "metadata": {},
     "output_type": "execute_result"
    }
   ],
   "execution_count": 11
  },
  {
   "metadata": {},
   "cell_type": "markdown",
   "source": " <h4><b> ⚡️ BONUS </b></h4>",
   "id": "60ae74d2aac80812"
  },
  {
   "metadata": {
    "ExecuteTime": {
     "end_time": "2024-08-12T10:11:31.862350Z",
     "start_time": "2024-08-12T10:11:31.857714Z"
    }
   },
   "cell_type": "code",
   "source": [
    "def steps_(dict1):\n",
    "    print(dict1.keys())\n",
    "    print(dict1.values())\n",
    "    dict1['Daisy'][1] = 13\n",
    "    print(dict1['Daisy'])\n",
    "    dict1['Ahmet'] = [\"Turkey\", 24]\n",
    "    print(dict1)\n",
    "    dict.update({'Ahmet':[\"Turkey\",24]})\n",
    "    dict1.pop('Antonio')\n",
    "    print(dict1)\n",
    "\n",
    "steps_(dict)"
   ],
   "id": "441eaa77388aa190",
   "outputs": [
    {
     "name": "stdout",
     "output_type": "stream",
     "text": [
      "dict_keys(['Christian', 'Daisy', 'Antonio', 'Dante'])\n",
      "dict_values([['America', 18], ['England', 12], ['Spain', 22], ['Italy', 25]])\n",
      "['England', 13]\n",
      "{'Christian': ['America', 18], 'Daisy': ['England', 13], 'Antonio': ['Spain', 22], 'Dante': ['Italy', 25], 'Ahmet': ['Turkey', 24]}\n",
      "{'Christian': ['America', 18], 'Daisy': ['England', 13], 'Dante': ['Italy', 25], 'Ahmet': ['Turkey', 24]}\n"
     ]
    }
   ],
   "execution_count": 2
  },
  {
   "metadata": {},
   "cell_type": "markdown",
   "source": "",
   "id": "4d7665a28f4bfe9a"
  },
  {
   "metadata": {},
   "cell_type": "markdown",
   "source": "<h4><b> Task5:</b> Write a function that takes a list as an argument, assigns the odd and even numbers in the list to separate lists, and returns these lists. </h4>",
   "id": "15a90650176231bc"
  },
  {
   "metadata": {},
   "cell_type": "markdown",
   "source": [
    "l = [1,14,18,93,21]\n",
    "\n",
    "def func():\n",
    "    ...\n",
    "    ...\n",
    "    return ...\n",
    "\n",
    "even_list, odd_list = func(l)"
   ],
   "id": "35c604bff239bd63"
  },
  {
   "metadata": {},
   "cell_type": "markdown",
   "source": [
    "You need to access the list elements one by one.\n",
    "You can use the % structure to check whether each element is even or odd."
   ],
   "id": "4ac75ddd94e71a89"
  },
  {
   "metadata": {},
   "cell_type": "markdown",
   "source": "<h4><b> Solution 5 </b></h4>",
   "id": "d522ee5211e9eb32"
  },
  {
   "metadata": {
    "ExecuteTime": {
     "end_time": "2024-08-12T10:11:40.147441Z",
     "start_time": "2024-08-12T10:11:40.138541Z"
    }
   },
   "cell_type": "code",
   "source": [
    "l = [1,14,18,93,21]\n",
    "even_list = []\n",
    "odd_list = []\n",
    "\n",
    "def func(l):\n",
    "    for i in l:\n",
    "        if i%2 == 0:\n",
    "            even_list.append(i)\n",
    "        else:\n",
    "            odd_list.append(i)\n",
    "    return even_list,odd_list\n",
    "\n",
    "even_list, odd_list = func(l)\n",
    "even_list, odd_list"
   ],
   "id": "7aac8db838f5dd9e",
   "outputs": [
    {
     "data": {
      "text/plain": [
       "([14, 18], [1, 93, 21])"
      ]
     },
     "execution_count": 3,
     "metadata": {},
     "output_type": "execute_result"
    }
   ],
   "execution_count": 3
  },
  {
   "metadata": {},
   "cell_type": "markdown",
   "source": " <h4><b> ⚡️ BONUS </b></h4>",
   "id": "5f7086fc6ee60108"
  },
  {
   "metadata": {
    "ExecuteTime": {
     "end_time": "2024-08-12T10:11:46.667522Z",
     "start_time": "2024-08-12T10:11:46.656324Z"
    }
   },
   "cell_type": "code",
   "source": [
    "# Solution with List Comp.\n",
    "l = [1,14,18,93,21]\n",
    "even_list = []\n",
    "odd_list = []\n",
    "[even_list.append(i) if i % 2 == 0 else odd_list.append(i) for i in l]\n",
    "even_list, odd_list"
   ],
   "id": "bbba6e98a212ce77",
   "outputs": [
    {
     "data": {
      "text/plain": [
       "([14, 18], [1, 93, 21])"
      ]
     },
     "execution_count": 1,
     "metadata": {},
     "output_type": "execute_result"
    }
   ],
   "execution_count": 1
  },
  {
   "metadata": {},
   "cell_type": "markdown",
   "source": " ",
   "id": "4a4d7fc9ff1cb60b"
  },
  {
   "metadata": {},
   "cell_type": "markdown",
   "source": "<h4><b> Task6:</b> The list given below contains the names of the students who achieved success in engineering and medical faculties. While the first three students represent the success order of the engineering faculty, the last three students belong to the medical faculty student rank. Print student degrees specifically for the faculty using enumarate.</h4>\n",
   "id": "37bbd876e16bfd97"
  },
  {
   "metadata": {
    "ExecuteTime": {
     "end_time": "2024-08-12T10:16:43.303866Z",
     "start_time": "2024-08-12T10:16:43.299617Z"
    }
   },
   "cell_type": "code",
   "source": "ogrenciler = [\"Ali\",\"Veli\",\"Ayşe\",\"Talat\",\"Zeynep\",\"Ece\"]",
   "id": "3a002c4055f6ab10",
   "outputs": [],
   "execution_count": 3
  },
  {
   "metadata": {},
   "cell_type": "markdown",
   "source": [
    "<h6><b>Expected Output:</b></h6>\n",
    "\n",
    "<p>Mühendislik Fakültesi 1. öğrenci: Ali<br>\n",
    "Mühendislik Fakültesi 2. öğrenci: Veli<br>\n",
    "Mühendislik Fakültesi 3. öğrenci: Ayşe<br>\n",
    "Tıp Fakültesi 1. öğrenci: Talat<br>\n",
    "Tıp Fakültesi 2. öğrenci: Zeynep<br>\n",
    "Tıp Fakültesi 3. öğrenci: Ece</p>"
   ],
   "id": "29979fad77bc56a8"
  },
  {
   "metadata": {},
   "cell_type": "markdown",
   "source": "<h4><b> Solution 6 </b></h4>\n",
   "id": "7a179824f0796363"
  },
  {
   "metadata": {
    "ExecuteTime": {
     "end_time": "2024-08-12T10:31:57.910789Z",
     "start_time": "2024-08-12T10:31:57.904054Z"
    }
   },
   "cell_type": "code",
   "source": [
    "for i, n in enumerate(ogrenciler):\n",
    "    if i < 3:\n",
    "        print(f'Mühendislik Fakültesi {i+1}. öğrenci: {n}')\n",
    "    else:\n",
    "        print(f'Tıp Fakültesi {i-2}. öğrenci: {n}')\n",
    "    "
   ],
   "id": "cb7bcfe0e5b16566",
   "outputs": [
    {
     "name": "stdout",
     "output_type": "stream",
     "text": [
      "Mühendislik Fakültesi 1. öğrenci: Ali\n",
      "Mühendislik Fakültesi 2. öğrenci: Veli\n",
      "Mühendislik Fakültesi 3. öğrenci: Ayşe\n",
      "Tıp Fakültesi 1. öğrenci: Talat\n",
      "Tıp Fakültesi 2. öğrenci: Zeynep\n",
      "Tıp Fakültesi 3. öğrenci: Ece\n"
     ]
    }
   ],
   "execution_count": 9
  },
  {
   "metadata": {
    "ExecuteTime": {
     "end_time": "2024-08-12T10:33:42.143937Z",
     "start_time": "2024-08-12T10:33:42.140016Z"
    }
   },
   "cell_type": "code",
   "source": [
    "# Method 2\n",
    "for index, ogrenci in enumerate(ogrenciler, 1):\n",
    "    if index <= 3:\n",
    "        print(f'Mühendislik fakültesi {index}. öğrenci:{ogrenci}')\n",
    "    else:\n",
    "        print(f'Tıp fakültesi {index-3}. öğrenci:{ogrenci}')"
   ],
   "id": "8d05ae94fac70369",
   "outputs": [
    {
     "name": "stdout",
     "output_type": "stream",
     "text": [
      "Mühendislik fakültesi 1. öğrenci:Ali\n",
      "Mühendislik fakültesi 2. öğrenci:Veli\n",
      "Mühendislik fakültesi 3. öğrenci:Ayşe\n",
      "Tıp fakültesi 1. öğrenci:Talat\n",
      "Tıp fakültesi 2. öğrenci:Zeynep\n",
      "Tıp fakültesi 3. öğrenci:Ece\n"
     ]
    }
   ],
   "execution_count": 10
  },
  {
   "metadata": {},
   "cell_type": "markdown",
   "source": " ",
   "id": "63db208f76c24f86"
  },
  {
   "metadata": {},
   "cell_type": "markdown",
   "source": "<h4><b> Task7:</b> Below are 3 lists. The lists contain the code, credit and quota information of a course, respectively. Print the course information using zip.</h4>",
   "id": "c91202758e026a6"
  },
  {
   "metadata": {
    "ExecuteTime": {
     "end_time": "2024-08-12T10:45:45.975942Z",
     "start_time": "2024-08-12T10:45:45.972901Z"
    }
   },
   "cell_type": "code",
   "source": [
    "ders_kodu = [\"CMP1005\",\"PSY1001\",\"HUK1005\",\"SEN2204\"]\n",
    "kredi = [3,4,2,4]\n",
    "kontenjan = [30,75,150,25]"
   ],
   "id": "59d282394b0db459",
   "outputs": [],
   "execution_count": 16
  },
  {
   "metadata": {},
   "cell_type": "markdown",
   "source": [
    "<h6><b>Expected Output:</b></h6>\n",
    "\n",
    "<p>Kredisi 3 olan CMP1005 kodlu dersin kontenjanı 30 kişidir. <br>\n",
    "Kredisi 4 olan PSY1001 kodlu dersin kontenjanı 75 kişidir.<br>\n",
    "Kredisi 2 olan HUK1005 kodlu dersin kontenjanı 150 kişidir.<br>\n",
    "Kredisi 4 olan SEN2204 kodlu dersin kontenjanı 25 kişidir.\n",
    "</p>"
   ],
   "id": "ef1bd47b78bac7e1"
  },
  {
   "metadata": {},
   "cell_type": "markdown",
   "source": "<h4><b> Solution 7 </b></h4>",
   "id": "3e00e2ccab1b577f"
  },
  {
   "metadata": {
    "ExecuteTime": {
     "end_time": "2024-08-12T10:45:49.183848Z",
     "start_time": "2024-08-12T10:45:49.179803Z"
    }
   },
   "cell_type": "code",
   "source": [
    "list(zip(ders_kodu, kredi, kontenjan))\n",
    "for kredi, ders_kodu, kontenjan in zip(kredi, ders_kodu, kontenjan):\n",
    "    print(f'Kredisi {kredi} olan {ders_kodu} kodlu dersin kontenjanı {kontenjan} kişidir.')"
   ],
   "id": "57117067095d839a",
   "outputs": [
    {
     "name": "stdout",
     "output_type": "stream",
     "text": [
      "Kredisi 3 olan CMP1005 kodlu dersin kontenjanı 30 kişidir.\n",
      "Kredisi 4 olan PSY1001 kodlu dersin kontenjanı 75 kişidir.\n",
      "Kredisi 2 olan HUK1005 kodlu dersin kontenjanı 150 kişidir.\n",
      "Kredisi 4 olan SEN2204 kodlu dersin kontenjanı 25 kişidir.\n"
     ]
    }
   ],
   "execution_count": 17
  },
  {
   "metadata": {},
   "cell_type": "markdown",
   "source": " ",
   "id": "51005d8dd1d99970"
  },
  {
   "metadata": {},
   "cell_type": "markdown",
   "source": "<h4><b> Task8:</b> Below are 2 sets. You are expected to define the function that will print the common elements of the 1st set if it covers the 2nd set, and the difference of the 2nd set from the 1st set if it does not.</h4>",
   "id": "ac66cfcb80220035"
  },
  {
   "metadata": {
    "ExecuteTime": {
     "end_time": "2024-08-12T10:47:05.250212Z",
     "start_time": "2024-08-12T10:47:05.247247Z"
    }
   },
   "cell_type": "code",
   "source": [
    "kume1 = set([\"data\", \"python\"])\n",
    "kume2 = set([\"data\", \"function\", \"qcut\", \"lambda\", \"python\", \"miuul\"])"
   ],
   "id": "9eafe95a02798906",
   "outputs": [],
   "execution_count": 18
  },
  {
   "metadata": {},
   "cell_type": "markdown",
   "source": [
    "<h6><b>Expected Output:</b></h6>\n",
    "\n",
    "{'qcut', 'miuul', 'function', 'lambda'}"
   ],
   "id": "5c6b0b0c2edb4f71"
  },
  {
   "metadata": {},
   "cell_type": "markdown",
   "source": [
    "To check whether it is covered or not, use the issuperset() method, <br>\n",
    "For different and common elements, use the intersection and difference methods."
   ],
   "id": "63a7ab56dc1e6323"
  },
  {
   "metadata": {
    "ExecuteTime": {
     "end_time": "2024-08-12T10:58:19.004072Z",
     "start_time": "2024-08-12T10:58:19.000530Z"
    }
   },
   "cell_type": "code",
   "source": [
    "def kume(set1,set2):\n",
    "    if set1.issuperset(set2):\n",
    "        print(set1.intersection(set2))\n",
    "    else:\n",
    "        print(set2.difference(set1))\n",
    "\n",
    "kume(kume1,kume2)"
   ],
   "id": "b9cce6f8c1c1ce95",
   "outputs": [
    {
     "name": "stdout",
     "output_type": "stream",
     "text": [
      "{'miuul', 'qcut', 'function', 'lambda'}\n"
     ]
    }
   ],
   "execution_count": 24
  }
 ],
 "metadata": {
  "kernelspec": {
   "display_name": "Python 3 (ipykernel)",
   "language": "python",
   "name": "python3"
  },
  "language_info": {
   "codemirror_mode": {
    "name": "ipython",
    "version": 3
   },
   "file_extension": ".py",
   "mimetype": "text/x-python",
   "name": "python",
   "nbconvert_exporter": "python",
   "pygments_lexer": "ipython3",
   "version": "3.11.9"
  }
 },
 "nbformat": 4,
 "nbformat_minor": 5
}
